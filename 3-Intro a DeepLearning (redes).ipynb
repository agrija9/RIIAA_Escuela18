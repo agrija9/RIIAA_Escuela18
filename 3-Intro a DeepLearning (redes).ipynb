{
 "cells": [
  {
   "cell_type": "markdown",
   "metadata": {
    "toc": true
   },
   "source": [
    "<h1>Table of Contents<span class=\"tocSkip\"></span></h1>\n",
    "<div class=\"toc\"><ul class=\"toc-item\"><li><span><a href=\"#Cargamos-librerias\" data-toc-modified-id=\"Cargamos-librerias-1\">Cargamos librerias</a></span><ul class=\"toc-item\"><li><span><a href=\"#metricas-de-evaluacion-(sigmas)-+-funciones-de-utilidad\" data-toc-modified-id=\"metricas-de-evaluacion-(sigmas)-+-funciones-de-utilidad-1.1\">metricas de evaluacion (sigmas) + funciones de utilidad</a></span></li><li><span><a href=\"#Datos-de-entrenamiento!\" data-toc-modified-id=\"Datos-de-entrenamiento!-1.2\">Datos de entrenamiento!</a></span></li><li><span><a href=\"#preprocesamiento-para-X-y-Y\" data-toc-modified-id=\"preprocesamiento-para-X-y-Y-1.3\">preprocesamiento para X y Y</a></span></li></ul></li><li><span><a href=\"#Tensorflow\" data-toc-modified-id=\"Tensorflow-2\">Tensorflow</a></span></li><li><span><a href=\"#Keras\" data-toc-modified-id=\"Keras-3\">Keras</a></span><ul class=\"toc-item\"><li><span><a href=\"#Red-sencillita\" data-toc-modified-id=\"Red-sencillita-3.1\">Red sencillita</a></span></li><li><span><a href=\"#Calidad-de-vida:-liveloss!\" data-toc-modified-id=\"Calidad-de-vida:-liveloss!-3.2\">Calidad de vida: liveloss!</a></span></li><li><span><a href=\"#Calidad-de-vida:-agregando-un-tensorboard\" data-toc-modified-id=\"Calidad-de-vida:-agregando-un-tensorboard-3.3\">Calidad de vida: agregando un tensorboard</a></span></li><li><span><a href=\"#Trucos:-Regularizadores-de-redes\" data-toc-modified-id=\"Trucos:-Regularizadores-de-redes-3.4\">Trucos: Regularizadores de redes</a></span></li><li><span><a href=\"#Actividad:-Crea-una-red-profunda\" data-toc-modified-id=\"Actividad:-Crea-una-red-profunda-3.5\">Actividad: Crea una red profunda</a></span></li><li><span><a href=\"#trucos:-Dropout\" data-toc-modified-id=\"trucos:-Dropout-3.6\">trucos: Dropout</a></span></li><li><span><a href=\"#Trucos:-BatchNormalization-y-Activacion!\" data-toc-modified-id=\"Trucos:-BatchNormalization-y-Activacion!-3.7\">Trucos: BatchNormalization y Activacion!</a></span></li><li><span><a href=\"#Keras-Functional\" data-toc-modified-id=\"Keras-Functional-3.8\">Keras Functional</a></span></li><li><span><a href=\"#Truco:-Skip-connections\" data-toc-modified-id=\"Truco:-Skip-connections-3.9\">Truco: Skip connections</a></span></li><li><span><a href=\"#Optimizador\" data-toc-modified-id=\"Optimizador-3.10\">Optimizador</a></span></li><li><span><a href=\"#Controlando-el-learning-rate\" data-toc-modified-id=\"Controlando-el-learning-rate-3.11\">Controlando el learning rate</a></span></li><li><span><a href=\"#Actividad:-Crea-una-red-poderosa!\" data-toc-modified-id=\"Actividad:-Crea-una-red-poderosa!-3.12\">Actividad: Crea una red poderosa!</a></span></li></ul></li><li><span><a href=\"#Pytorch\" data-toc-modified-id=\"Pytorch-4\">Pytorch</a></span></li></ul></div>"
   ]
  },
  {
   "cell_type": "markdown",
   "metadata": {},
   "source": [
    "![](extra/atlas.png)\n",
    "# Cargamos librerias"
   ]
  },
  {
   "cell_type": "code",
   "execution_count": 1,
   "metadata": {
    "ExecuteTime": {
     "end_time": "2018-08-24T08:17:47.151173Z",
     "start_time": "2018-08-24T08:17:46.814786Z"
    }
   },
   "outputs": [],
   "source": [
    "%matplotlib inline \n",
    "%config InlineBackend.figure_format='retina' # <-- Gráficas de alta calidad en Jupyter\n",
    "import matplotlib\n",
    "import matplotlib.pyplot as plt"
   ]
  },
  {
   "cell_type": "code",
   "execution_count": 2,
   "metadata": {
    "ExecuteTime": {
     "end_time": "2018-08-24T08:17:47.725328Z",
     "start_time": "2018-08-24T08:17:47.152976Z"
    }
   },
   "outputs": [],
   "source": [
    "import numpy as np\n",
    "import scipy as sc\n",
    "import pandas as pd\n",
    "import sklearn\n",
    "import matplotlib.pyplot as plt\n",
    "import seaborn as sns\n",
    "import os\n",
    "from IPython.display import display\n",
    "import sys"
   ]
  },
  {
   "cell_type": "markdown",
   "metadata": {},
   "source": [
    "## metricas de evaluacion (sigmas) + funciones de utilidad\n",
    "\n",
    "![http://i.imgur.com/Hflz2lG.jpg](http://i.imgur.com/Hflz2lG.jpg)"
   ]
  },
  {
   "cell_type": "code",
   "execution_count": 5,
   "metadata": {
    "ExecuteTime": {
     "end_time": "2018-08-24T08:34:42.166891Z",
     "start_time": "2018-08-24T08:34:42.157723Z"
    }
   },
   "outputs": [],
   "source": [
    "from sklearn.metrics import roc_curve, auc, roc_auc_score\n",
    "\n",
    "    \n",
    "def AMSScore(s,b): \n",
    "    return np.sqrt (2.*( (s + b + 10.)*np.log(1.+s/(b+10.))-s))\n",
    "\n",
    "def eval_model(Y_true_train,Y_pred_train,w_train,Y_true_test,Y_pred_test,w_test):\n",
    "    ratio =  float(len(X_train)) /float(len(X_test))\n",
    "    TruePositive_train = w_train*(Y_true_train==1.0)*(1.0/ratio)\n",
    "    TrueNegative_train = w_train*(Y_true_train==0.0)*(1.0/ratio)\n",
    "    TruePositive_valid = w_test*(Y_true_test==1.0)*(1.0/(1-ratio))\n",
    "    TrueNegative_valid = w_test*(Y_true_test==0.0)*(1.0/(1-ratio))\n",
    "    s_train = sum ( TruePositive_train*(Y_pred_train==1.0) )\n",
    "    b_train = sum ( TrueNegative_train*(Y_pred_train==1.0) )\n",
    "    s_test = sum ( TruePositive_valid*(Y_pred_test==1.0) )\n",
    "    b_test = sum ( TrueNegative_valid*(Y_pred_test==1.0) )\n",
    "    score_train = AMSScore(s_train,b_train)\n",
    "    score_test = AMSScore(s_test,b_test)\n",
    "    print('--- Resultados --')\n",
    "    print('- AUC train: {:.3f} '.format(roc_auc_score(Y_train,Y_train_pred)))\n",
    "    print('- AUC test : {:.3f} '.format(roc_auc_score(Y_test,Y_test_pred)))\n",
    "    print('- AMS train: {:.3f} sigma'.format(score_train))\n",
    "    print('- AMS test : {:.3f} sigma'.format(score_test))\n",
    "    return score_train, score_test\n",
    "\n",
    "def plot_roc(clf,Y_test,Y_test_prob):\n",
    "    fpr, tpr, thresholds = roc_curve(Y_test, Y_test_prob)\n",
    "    roc_auc = auc(fpr, tpr)\n",
    "    plt.plot(fpr, tpr, lw=1, alpha=0.3, label=str(clf.__class__.__name__))\n",
    "    plt.plot(np.linspace(0,1,100),np.linspace(0,1,100), lw=2, alpha=0.3, label='Suerte')\n",
    "    plt.legend(loc='lower right')\n",
    "    plt.xlim([0,1])\n",
    "    plt.ylim([0,1])\n",
    "    plt.tight_layout()\n",
    "    return\n",
    "\n",
    "def keras_graph(model):\n",
    "    from IPython.display import SVG\n",
    "    from keras.utils.vis_utils import model_to_dot\n",
    "    return SVG(model_to_dot(model).create(prog='dot', format='svg'))"
   ]
  },
  {
   "cell_type": "markdown",
   "metadata": {},
   "source": [
    "## Datos de entrenamiento!\n",
    "\n",
    "Quieres saber mas? Visita"
   ]
  },
  {
   "cell_type": "code",
   "execution_count": 9,
   "metadata": {
    "ExecuteTime": {
     "end_time": "2018-08-24T08:17:49.192476Z",
     "start_time": "2018-08-24T08:17:48.223762Z"
    },
    "scrolled": true
   },
   "outputs": [
    {
     "name": "stdout",
     "output_type": "stream",
     "text": [
      "(250000, 33)\n"
     ]
    },
    {
     "data": {
      "text/html": [
       "<div>\n",
       "<style scoped>\n",
       "    .dataframe tbody tr th:only-of-type {\n",
       "        vertical-align: middle;\n",
       "    }\n",
       "\n",
       "    .dataframe tbody tr th {\n",
       "        vertical-align: top;\n",
       "    }\n",
       "\n",
       "    .dataframe thead th {\n",
       "        text-align: right;\n",
       "    }\n",
       "</style>\n",
       "<table border=\"1\" class=\"dataframe\">\n",
       "  <thead>\n",
       "    <tr style=\"text-align: right;\">\n",
       "      <th></th>\n",
       "      <th>EventId</th>\n",
       "      <th>DER_mass_MMC</th>\n",
       "      <th>DER_mass_transverse_met_lep</th>\n",
       "      <th>DER_mass_vis</th>\n",
       "      <th>DER_pt_h</th>\n",
       "      <th>DER_deltaeta_jet_jet</th>\n",
       "      <th>DER_mass_jet_jet</th>\n",
       "      <th>DER_prodeta_jet_jet</th>\n",
       "      <th>DER_deltar_tau_lep</th>\n",
       "      <th>DER_pt_tot</th>\n",
       "      <th>...</th>\n",
       "      <th>PRI_jet_num</th>\n",
       "      <th>PRI_jet_leading_pt</th>\n",
       "      <th>PRI_jet_leading_eta</th>\n",
       "      <th>PRI_jet_leading_phi</th>\n",
       "      <th>PRI_jet_subleading_pt</th>\n",
       "      <th>PRI_jet_subleading_eta</th>\n",
       "      <th>PRI_jet_subleading_phi</th>\n",
       "      <th>PRI_jet_all_pt</th>\n",
       "      <th>Weight</th>\n",
       "      <th>Label</th>\n",
       "    </tr>\n",
       "  </thead>\n",
       "  <tbody>\n",
       "    <tr>\n",
       "      <th>0</th>\n",
       "      <td>100000</td>\n",
       "      <td>138.470</td>\n",
       "      <td>51.655</td>\n",
       "      <td>97.827</td>\n",
       "      <td>27.980</td>\n",
       "      <td>0.91</td>\n",
       "      <td>124.711</td>\n",
       "      <td>2.666</td>\n",
       "      <td>3.064</td>\n",
       "      <td>41.928</td>\n",
       "      <td>...</td>\n",
       "      <td>2</td>\n",
       "      <td>67.435</td>\n",
       "      <td>2.150</td>\n",
       "      <td>0.444</td>\n",
       "      <td>46.062</td>\n",
       "      <td>1.24</td>\n",
       "      <td>-2.475</td>\n",
       "      <td>113.497</td>\n",
       "      <td>0.002653</td>\n",
       "      <td>s</td>\n",
       "    </tr>\n",
       "    <tr>\n",
       "      <th>1</th>\n",
       "      <td>100001</td>\n",
       "      <td>160.937</td>\n",
       "      <td>68.768</td>\n",
       "      <td>103.235</td>\n",
       "      <td>48.146</td>\n",
       "      <td>-999.00</td>\n",
       "      <td>-999.000</td>\n",
       "      <td>-999.000</td>\n",
       "      <td>3.473</td>\n",
       "      <td>2.078</td>\n",
       "      <td>...</td>\n",
       "      <td>1</td>\n",
       "      <td>46.226</td>\n",
       "      <td>0.725</td>\n",
       "      <td>1.158</td>\n",
       "      <td>-999.000</td>\n",
       "      <td>-999.00</td>\n",
       "      <td>-999.000</td>\n",
       "      <td>46.226</td>\n",
       "      <td>2.233584</td>\n",
       "      <td>b</td>\n",
       "    </tr>\n",
       "    <tr>\n",
       "      <th>2</th>\n",
       "      <td>100002</td>\n",
       "      <td>-999.000</td>\n",
       "      <td>162.172</td>\n",
       "      <td>125.953</td>\n",
       "      <td>35.635</td>\n",
       "      <td>-999.00</td>\n",
       "      <td>-999.000</td>\n",
       "      <td>-999.000</td>\n",
       "      <td>3.148</td>\n",
       "      <td>9.336</td>\n",
       "      <td>...</td>\n",
       "      <td>1</td>\n",
       "      <td>44.251</td>\n",
       "      <td>2.053</td>\n",
       "      <td>-2.028</td>\n",
       "      <td>-999.000</td>\n",
       "      <td>-999.00</td>\n",
       "      <td>-999.000</td>\n",
       "      <td>44.251</td>\n",
       "      <td>2.347389</td>\n",
       "      <td>b</td>\n",
       "    </tr>\n",
       "    <tr>\n",
       "      <th>3</th>\n",
       "      <td>100003</td>\n",
       "      <td>143.905</td>\n",
       "      <td>81.417</td>\n",
       "      <td>80.943</td>\n",
       "      <td>0.414</td>\n",
       "      <td>-999.00</td>\n",
       "      <td>-999.000</td>\n",
       "      <td>-999.000</td>\n",
       "      <td>3.310</td>\n",
       "      <td>0.414</td>\n",
       "      <td>...</td>\n",
       "      <td>0</td>\n",
       "      <td>-999.000</td>\n",
       "      <td>-999.000</td>\n",
       "      <td>-999.000</td>\n",
       "      <td>-999.000</td>\n",
       "      <td>-999.00</td>\n",
       "      <td>-999.000</td>\n",
       "      <td>-0.000</td>\n",
       "      <td>5.446378</td>\n",
       "      <td>b</td>\n",
       "    </tr>\n",
       "    <tr>\n",
       "      <th>4</th>\n",
       "      <td>100004</td>\n",
       "      <td>175.864</td>\n",
       "      <td>16.915</td>\n",
       "      <td>134.805</td>\n",
       "      <td>16.405</td>\n",
       "      <td>-999.00</td>\n",
       "      <td>-999.000</td>\n",
       "      <td>-999.000</td>\n",
       "      <td>3.891</td>\n",
       "      <td>16.405</td>\n",
       "      <td>...</td>\n",
       "      <td>0</td>\n",
       "      <td>-999.000</td>\n",
       "      <td>-999.000</td>\n",
       "      <td>-999.000</td>\n",
       "      <td>-999.000</td>\n",
       "      <td>-999.00</td>\n",
       "      <td>-999.000</td>\n",
       "      <td>0.000</td>\n",
       "      <td>6.245333</td>\n",
       "      <td>b</td>\n",
       "    </tr>\n",
       "  </tbody>\n",
       "</table>\n",
       "<p>5 rows × 33 columns</p>\n",
       "</div>"
      ],
      "text/plain": [
       "   EventId  DER_mass_MMC  DER_mass_transverse_met_lep  DER_mass_vis  DER_pt_h  \\\n",
       "0   100000       138.470                       51.655        97.827    27.980   \n",
       "1   100001       160.937                       68.768       103.235    48.146   \n",
       "2   100002      -999.000                      162.172       125.953    35.635   \n",
       "3   100003       143.905                       81.417        80.943     0.414   \n",
       "4   100004       175.864                       16.915       134.805    16.405   \n",
       "\n",
       "   DER_deltaeta_jet_jet  DER_mass_jet_jet  DER_prodeta_jet_jet  \\\n",
       "0                  0.91           124.711                2.666   \n",
       "1               -999.00          -999.000             -999.000   \n",
       "2               -999.00          -999.000             -999.000   \n",
       "3               -999.00          -999.000             -999.000   \n",
       "4               -999.00          -999.000             -999.000   \n",
       "\n",
       "   DER_deltar_tau_lep  DER_pt_tot  ...    PRI_jet_num  PRI_jet_leading_pt  \\\n",
       "0               3.064      41.928  ...              2              67.435   \n",
       "1               3.473       2.078  ...              1              46.226   \n",
       "2               3.148       9.336  ...              1              44.251   \n",
       "3               3.310       0.414  ...              0            -999.000   \n",
       "4               3.891      16.405  ...              0            -999.000   \n",
       "\n",
       "   PRI_jet_leading_eta  PRI_jet_leading_phi  PRI_jet_subleading_pt  \\\n",
       "0                2.150                0.444                 46.062   \n",
       "1                0.725                1.158               -999.000   \n",
       "2                2.053               -2.028               -999.000   \n",
       "3             -999.000             -999.000               -999.000   \n",
       "4             -999.000             -999.000               -999.000   \n",
       "\n",
       "   PRI_jet_subleading_eta  PRI_jet_subleading_phi  PRI_jet_all_pt    Weight  \\\n",
       "0                    1.24                  -2.475         113.497  0.002653   \n",
       "1                 -999.00                -999.000          46.226  2.233584   \n",
       "2                 -999.00                -999.000          44.251  2.347389   \n",
       "3                 -999.00                -999.000          -0.000  5.446378   \n",
       "4                 -999.00                -999.000           0.000  6.245333   \n",
       "\n",
       "   Label  \n",
       "0      s  \n",
       "1      b  \n",
       "2      b  \n",
       "3      b  \n",
       "4      b  \n",
       "\n",
       "[5 rows x 33 columns]"
      ]
     },
     "execution_count": 9,
     "metadata": {},
     "output_type": "execute_result"
    }
   ],
   "source": [
    "df=pd.read_csv('datos/training.csv')\n",
    "print(df.shape)\n",
    "df.head(5)"
   ]
  },
  {
   "cell_type": "markdown",
   "metadata": {},
   "source": [
    "## preprocesamiento para X y Y"
   ]
  },
  {
   "cell_type": "code",
   "execution_count": 7,
   "metadata": {
    "ExecuteTime": {
     "end_time": "2018-08-24T08:17:49.327953Z",
     "start_time": "2018-08-24T08:17:49.193912Z"
    }
   },
   "outputs": [],
   "source": [
    "Y = df['Label'].replace(to_replace=['s','b'],value=[1,0]).values\n",
    "weights = df['Weight'].values\n",
    "X = df.drop(['EventId','Label','Weight'],axis=1).values"
   ]
  },
  {
   "cell_type": "code",
   "execution_count": 8,
   "metadata": {
    "ExecuteTime": {
     "end_time": "2018-08-24T08:17:49.531551Z",
     "start_time": "2018-08-24T08:17:49.381349Z"
    }
   },
   "outputs": [
    {
     "name": "stdout",
     "output_type": "stream",
     "text": [
      "(75000, 30) (75000,) (75000,)\n",
      "(175000, 30) (175000,) (175000,)\n"
     ]
    },
    {
     "name": "stderr",
     "output_type": "stream",
     "text": [
      "/home/hackerman/anaconda2/envs/py36-test/lib/python3.6/site-packages/sklearn/model_selection/_split.py:2026: FutureWarning: From version 0.21, test_size will always complement train_size unless both are specified.\n",
      "  FutureWarning)\n"
     ]
    }
   ],
   "source": [
    "from sklearn.model_selection import train_test_split\n",
    "X_train,X_test,Y_train,Y_test,w_train,w_test = train_test_split(X,Y,weights,train_size=0.3)\n",
    "print(X_train.shape,Y_train.shape,w_train.shape)\n",
    "print(X_test.shape,Y_test.shape,w_test.shape)"
   ]
  },
  {
   "cell_type": "markdown",
   "metadata": {},
   "source": [
    "# Tensorflow\n",
    "[![](extra/tf_logo.jpg)](https://www.tensorflow.org/)"
   ]
  },
  {
   "cell_type": "code",
   "execution_count": 3,
   "metadata": {
    "ExecuteTime": {
     "end_time": "2018-08-24T07:38:39.497500Z",
     "start_time": "2018-08-24T07:38:38.473420Z"
    }
   },
   "outputs": [],
   "source": [
    "import tensorflow as tf"
   ]
  },
  {
   "cell_type": "markdown",
   "metadata": {},
   "source": [
    "# Keras\n",
    "\n",
    "[![](extra/keras-logo.png)](https://keras.io/)"
   ]
  },
  {
   "cell_type": "code",
   "execution_count": 4,
   "metadata": {
    "ExecuteTime": {
     "end_time": "2018-08-24T08:18:17.391905Z",
     "start_time": "2018-08-24T08:18:16.014973Z"
    }
   },
   "outputs": [
    {
     "name": "stderr",
     "output_type": "stream",
     "text": [
      "Using TensorFlow backend.\n"
     ]
    }
   ],
   "source": [
    "from keras.models import Sequential\n",
    "from keras.layers import Dense, Activation\n",
    "from keras import backend as K\n",
    "import keras"
   ]
  },
  {
   "cell_type": "markdown",
   "metadata": {},
   "source": [
    "## Red sencillita"
   ]
  },
  {
   "cell_type": "code",
   "execution_count": 15,
   "metadata": {
    "ExecuteTime": {
     "end_time": "2018-08-24T08:18:55.181558Z",
     "start_time": "2018-08-24T08:18:44.314653Z"
    }
   },
   "outputs": [
    {
     "name": "stdout",
     "output_type": "stream",
     "text": [
      "_________________________________________________________________\n",
      "Layer (type)                 Output Shape              Param #   \n",
      "=================================================================\n",
      "dense_1 (Dense)              (None, 10)                310       \n",
      "_________________________________________________________________\n",
      "dense_2 (Dense)              (None, 1)                 11        \n",
      "=================================================================\n",
      "Total params: 321\n",
      "Trainable params: 321\n",
      "Non-trainable params: 0\n",
      "_________________________________________________________________\n",
      "None\n",
      "Epoch 1/5\n",
      "75000/75000 [==============================] - 4s 52us/step - loss: 0.5595 - acc: 0.7295\n",
      "Epoch 2/5\n",
      "75000/75000 [==============================] - 3s 44us/step - loss: 0.4908 - acc: 0.7598\n",
      "Epoch 3/5\n",
      "75000/75000 [==============================] - 3s 44us/step - loss: 0.4775 - acc: 0.7676\n",
      "Epoch 4/5\n",
      "75000/75000 [==============================] - 3s 46us/step - loss: 0.4702 - acc: 0.7755\n",
      "Epoch 5/5\n",
      "75000/75000 [==============================] - 3s 47us/step - loss: 0.4665 - acc: 0.7776\n"
     ]
    },
    {
     "data": {
      "text/plain": [
       "<keras.callbacks.History at 0x7f2bdaa64c18>"
      ]
     },
     "execution_count": 15,
     "metadata": {},
     "output_type": "execute_result"
    }
   ],
   "source": [
    "K.clear_session() # Limpiar redes anteriores\n",
    "\n",
    "model = Sequential()\n",
    "model.add(Dense(units=10, input_dim=X_train.shape[-1], kernel_initializer='normal', activation='relu')) # dimensionalidad de los datos 30\n",
    "model.add(Dense(1, kernel_initializer='normal', activation='sigmoid')) #kernel inicializa los pesos sacados aleatoriamente de una dist. normal\n",
    "model.compile(loss='binary_crossentropy', optimizer=\"adam\", metrics=['accuracy']) #métrica para optimizar, optimizador, metric to be reported\n",
    "print(model.summary())\n",
    "model.fit(X_train, Y_train, epochs=5, batch_size=32) # 32 valores por iteración, se hacen 75000/32 iteraciones por época\n",
    "\n",
    "# Network architecture: 30x42x1 = 1302 neurons"
   ]
  },
  {
   "cell_type": "code",
   "execution_count": 16,
   "metadata": {
    "ExecuteTime": {
     "end_time": "2018-08-24T08:04:10.725399Z",
     "start_time": "2018-08-24T08:04:04.945904Z"
    }
   },
   "outputs": [
    {
     "name": "stdout",
     "output_type": "stream",
     "text": [
      "--- Resultados --\n",
      "- AUC train: 0.690 \n",
      "- AUC test : 0.690 \n",
      "- AMS train: 1.741 sigma\n",
      "- AMS test : 2.291 sigma\n"
     ]
    },
    {
     "data": {
      "text/plain": [
       "(1.7409776492379045, 2.2912429961717113)"
      ]
     },
     "execution_count": 16,
     "metadata": {},
     "output_type": "execute_result"
    }
   ],
   "source": [
    "# Evaluate model\n",
    "pcut=0.5\n",
    "Y_train_pred = model.predict(X_train).flatten() > pcut\n",
    "Y_test_pred = model.predict(X_test).flatten() > pcut\n",
    "Y_train_prob= model.predict_proba(X_train).flatten()\n",
    "Y_test_prob = model.predict_proba(X_test).flatten()\n",
    "eval_model(Y_train,Y_train_pred,w_train,Y_test,Y_test_pred,w_test)"
   ]
  },
  {
   "cell_type": "markdown",
   "metadata": {},
   "source": [
    "## Calidad de vida: liveloss!"
   ]
  },
  {
   "cell_type": "code",
   "execution_count": 12,
   "metadata": {},
   "outputs": [
    {
     "name": "stdout",
     "output_type": "stream",
     "text": [
      "Collecting livelossplot\n",
      "  Downloading https://files.pythonhosted.org/packages/0c/01/3e34559dbdb98580d5e8f62bc3853975c2a2079834bfba2c1bdffe680804/livelossplot-0.2.0.tar.gz\n",
      "Requirement already satisfied: matplotlib in /home/hackerman/anaconda2/envs/py36-test/lib/python3.6/site-packages (from livelossplot) (2.2.3)\n",
      "Collecting notebook (from livelossplot)\n",
      "\u001b[?25l  Downloading https://files.pythonhosted.org/packages/5e/7c/7fd8e9584779d65dfcad9fa2e09c76131a41f999f853a9c7026ed8585586/notebook-5.6.0-py2.py3-none-any.whl (8.9MB)\n",
      "\u001b[K    100% |████████████████████████████████| 8.9MB 1.5MB/s \n",
      "\u001b[?25hRequirement already satisfied: numpy>=1.7.1 in /home/hackerman/anaconda2/envs/py36-test/lib/python3.6/site-packages (from matplotlib->livelossplot) (1.14.5)\n",
      "Requirement already satisfied: cycler>=0.10 in /home/hackerman/anaconda2/envs/py36-test/lib/python3.6/site-packages (from matplotlib->livelossplot) (0.10.0)\n",
      "Requirement already satisfied: pyparsing!=2.0.4,!=2.1.2,!=2.1.6,>=2.0.1 in /home/hackerman/anaconda2/envs/py36-test/lib/python3.6/site-packages (from matplotlib->livelossplot) (2.2.0)\n",
      "Requirement already satisfied: python-dateutil>=2.1 in /home/hackerman/anaconda2/envs/py36-test/lib/python3.6/site-packages (from matplotlib->livelossplot) (2.7.3)\n",
      "Requirement already satisfied: pytz in /home/hackerman/anaconda2/envs/py36-test/lib/python3.6/site-packages (from matplotlib->livelossplot) (2018.5)\n",
      "Requirement already satisfied: six>=1.10 in /home/hackerman/anaconda2/envs/py36-test/lib/python3.6/site-packages (from matplotlib->livelossplot) (1.11.0)\n",
      "Requirement already satisfied: kiwisolver>=1.0.1 in /home/hackerman/anaconda2/envs/py36-test/lib/python3.6/site-packages (from matplotlib->livelossplot) (1.0.1)\n",
      "Requirement already satisfied: tornado>=4 in /home/hackerman/anaconda2/envs/py36-test/lib/python3.6/site-packages (from notebook->livelossplot) (5.1)\n",
      "Collecting terminado>=0.8.1 (from notebook->livelossplot)\n",
      "  Downloading https://files.pythonhosted.org/packages/2e/20/a26211a24425923d46e1213b376a6ee60dc30bcdf1b0c345e2c3769deb1c/terminado-0.8.1-py2.py3-none-any.whl\n",
      "Requirement already satisfied: jupyter-client>=5.2.0 in /home/hackerman/anaconda2/envs/py36-test/lib/python3.6/site-packages (from notebook->livelossplot) (5.2.3)\n",
      "Requirement already satisfied: traitlets>=4.2.1 in /home/hackerman/anaconda2/envs/py36-test/lib/python3.6/site-packages (from notebook->livelossplot) (4.3.2)\n",
      "Collecting prometheus-client (from notebook->livelossplot)\n",
      "  Downloading https://files.pythonhosted.org/packages/a1/b1/08de091b392fec31da9bd3f5edd9214ec1c6931dd81641610ac20f3ff934/prometheus_client-0.3.1.tar.gz\n",
      "Collecting Send2Trash (from notebook->livelossplot)\n",
      "  Downloading https://files.pythonhosted.org/packages/49/46/c3dc27481d1cc57b9385aff41c474ceb7714f7935b1247194adae45db714/Send2Trash-1.5.0-py3-none-any.whl\n",
      "Requirement already satisfied: jupyter-core>=4.4.0 in /home/hackerman/anaconda2/envs/py36-test/lib/python3.6/site-packages (from notebook->livelossplot) (4.4.0)\n",
      "Collecting nbconvert (from notebook->livelossplot)\n",
      "\u001b[?25l  Downloading https://files.pythonhosted.org/packages/39/ea/280d6c0d92f8e3ca15fd798bbcc2ea141489f9539de7133d8fe10ea4b049/nbconvert-5.3.1-py2.py3-none-any.whl (387kB)\n",
      "\u001b[K    100% |████████████████████████████████| 389kB 3.2MB/s \n",
      "\u001b[?25hCollecting nbformat (from notebook->livelossplot)\n",
      "\u001b[?25l  Downloading https://files.pythonhosted.org/packages/da/27/9a654d2b6cc1eaa517d1c5a4405166c7f6d72f04f6e7eea41855fe808a46/nbformat-4.4.0-py2.py3-none-any.whl (155kB)\n",
      "\u001b[K    100% |████████████████████████████████| 163kB 1.8MB/s \n",
      "\u001b[?25hRequirement already satisfied: pyzmq>=17 in /home/hackerman/anaconda2/envs/py36-test/lib/python3.6/site-packages (from notebook->livelossplot) (17.1.2)\n",
      "Collecting jinja2 (from notebook->livelossplot)\n",
      "\u001b[?25l  Downloading https://files.pythonhosted.org/packages/7f/ff/ae64bacdfc95f27a016a7bed8e8686763ba4d277a78ca76f32659220a731/Jinja2-2.10-py2.py3-none-any.whl (126kB)\n",
      "\u001b[K    100% |████████████████████████████████| 133kB 1.9MB/s \n",
      "\u001b[?25hRequirement already satisfied: ipython-genutils in /home/hackerman/anaconda2/envs/py36-test/lib/python3.6/site-packages (from notebook->livelossplot) (0.2.0)\n",
      "Requirement already satisfied: ipykernel in /home/hackerman/anaconda2/envs/py36-test/lib/python3.6/site-packages (from notebook->livelossplot) (4.8.2)\n",
      "Requirement already satisfied: setuptools in /home/hackerman/anaconda2/envs/py36-test/lib/python3.6/site-packages (from kiwisolver>=1.0.1->matplotlib->livelossplot) (39.1.0)\n",
      "Requirement already satisfied: ptyprocess; os_name != \"nt\" in /home/hackerman/anaconda2/envs/py36-test/lib/python3.6/site-packages (from terminado>=0.8.1->notebook->livelossplot) (0.6.0)\n",
      "Requirement already satisfied: decorator in /home/hackerman/anaconda2/envs/py36-test/lib/python3.6/site-packages (from traitlets>=4.2.1->notebook->livelossplot) (4.3.0)\n",
      "Collecting testpath (from nbconvert->notebook->livelossplot)\n",
      "\u001b[?25l  Downloading https://files.pythonhosted.org/packages/15/19/d7bc380c479a184e4a5a9ce516e4e2a773165f89b445f7cdced83d94de25/testpath-0.3.1-py2.py3-none-any.whl (161kB)\n",
      "\u001b[K    100% |████████████████████████████████| 163kB 2.0MB/s \n",
      "\u001b[?25hCollecting entrypoints>=0.2.2 (from nbconvert->notebook->livelossplot)\n",
      "  Downloading https://files.pythonhosted.org/packages/cc/8b/4eefa9b47f1910b3d2081da67726b066e379b04ca897acfe9f92bac56147/entrypoints-0.2.3-py2.py3-none-any.whl\n",
      "Collecting bleach (from nbconvert->notebook->livelossplot)\n",
      "\u001b[33m  Cache entry deserialization failed, entry ignored\u001b[0m\n",
      "  Downloading https://files.pythonhosted.org/packages/94/aa/0f7ce53f8688bb9f80c0cffacc3964ddfe08321c509c0bfe5062848951f9/bleach-2.1.4-py2.py3-none-any.whl\n",
      "Requirement already satisfied: pygments in /home/hackerman/anaconda2/envs/py36-test/lib/python3.6/site-packages (from nbconvert->notebook->livelossplot) (2.2.0)\n",
      "Collecting pandocfilters>=1.4.1 (from nbconvert->notebook->livelossplot)\n",
      "  Downloading https://files.pythonhosted.org/packages/4c/ea/236e2584af67bb6df960832731a6e5325fd4441de001767da328c33368ce/pandocfilters-1.4.2.tar.gz\n",
      "Collecting mistune>=0.7.4 (from nbconvert->notebook->livelossplot)\n",
      "  Downloading https://files.pythonhosted.org/packages/c8/8c/87f4d359438ba0321a2ae91936030110bfcc62fef752656321a72b8c1af9/mistune-0.8.3-py2.py3-none-any.whl\n",
      "Collecting jsonschema!=2.5.0,>=2.4 (from nbformat->notebook->livelossplot)\n",
      "  Downloading https://files.pythonhosted.org/packages/77/de/47e35a97b2b05c2fadbec67d44cfcdcd09b8086951b331d82de90d2912da/jsonschema-2.6.0-py2.py3-none-any.whl\n",
      "Collecting MarkupSafe>=0.23 (from jinja2->notebook->livelossplot)\n",
      "  Downloading https://files.pythonhosted.org/packages/4d/de/32d741db316d8fdb7680822dd37001ef7a448255de9699ab4bfcbdf4172b/MarkupSafe-1.0.tar.gz\n",
      "Requirement already satisfied: ipython>=4.0.0 in /home/hackerman/anaconda2/envs/py36-test/lib/python3.6/site-packages (from ipykernel->notebook->livelossplot) (6.5.0)\n",
      "Collecting html5lib!=1.0b1,!=1.0b2,!=1.0b3,!=1.0b4,!=1.0b5,!=1.0b6,!=1.0b7,!=1.0b8,>=0.99999999pre (from bleach->nbconvert->notebook->livelossplot)\n",
      "\u001b[33m  Cache entry deserialization failed, entry ignored\u001b[0m\n",
      "\u001b[?25l  Downloading https://files.pythonhosted.org/packages/a5/62/bbd2be0e7943ec8504b517e62bab011b4946e1258842bc159e5dfde15b96/html5lib-1.0.1-py2.py3-none-any.whl (117kB)\n",
      "\u001b[K    100% |████████████████████████████████| 122kB 2.2MB/s \n",
      "\u001b[?25hRequirement already satisfied: pexpect; sys_platform != \"win32\" in /home/hackerman/anaconda2/envs/py36-test/lib/python3.6/site-packages (from ipython>=4.0.0->ipykernel->notebook->livelossplot) (4.6.0)\n",
      "Requirement already satisfied: prompt-toolkit<2.0.0,>=1.0.15 in /home/hackerman/anaconda2/envs/py36-test/lib/python3.6/site-packages (from ipython>=4.0.0->ipykernel->notebook->livelossplot) (1.0.15)\n",
      "Requirement already satisfied: backcall in /home/hackerman/anaconda2/envs/py36-test/lib/python3.6/site-packages (from ipython>=4.0.0->ipykernel->notebook->livelossplot) (0.1.0)\n",
      "Requirement already satisfied: simplegeneric>0.8 in /home/hackerman/anaconda2/envs/py36-test/lib/python3.6/site-packages (from ipython>=4.0.0->ipykernel->notebook->livelossplot) (0.8.1)\n",
      "Requirement already satisfied: jedi>=0.10 in /home/hackerman/anaconda2/envs/py36-test/lib/python3.6/site-packages (from ipython>=4.0.0->ipykernel->notebook->livelossplot) (0.12.1)\n",
      "Requirement already satisfied: pickleshare in /home/hackerman/anaconda2/envs/py36-test/lib/python3.6/site-packages (from ipython>=4.0.0->ipykernel->notebook->livelossplot) (0.7.4)\n",
      "Collecting webencodings (from html5lib!=1.0b1,!=1.0b2,!=1.0b3,!=1.0b4,!=1.0b5,!=1.0b6,!=1.0b7,!=1.0b8,>=0.99999999pre->bleach->nbconvert->notebook->livelossplot)\n",
      "  Downloading https://files.pythonhosted.org/packages/f4/24/2a3e3df732393fed8b3ebf2ec078f05546de641fe1b667ee316ec1dcf3b7/webencodings-0.5.1-py2.py3-none-any.whl\n",
      "Requirement already satisfied: wcwidth in /home/hackerman/anaconda2/envs/py36-test/lib/python3.6/site-packages (from prompt-toolkit<2.0.0,>=1.0.15->ipython>=4.0.0->ipykernel->notebook->livelossplot) (0.1.7)\n",
      "Requirement already satisfied: parso>=0.3.0 in /home/hackerman/anaconda2/envs/py36-test/lib/python3.6/site-packages (from jedi>=0.10->ipython>=4.0.0->ipykernel->notebook->livelossplot) (0.3.1)\n",
      "Building wheels for collected packages: livelossplot, prometheus-client, pandocfilters, MarkupSafe\n",
      "  Running setup.py bdist_wheel for livelossplot ... \u001b[?25ldone\n",
      "\u001b[?25h  Stored in directory: /home/hackerman/.cache/pip/wheels/67/8b/e9/3990164e3b2a421145b9d9d76fc8aa889225d495b043faeb73\n",
      "  Running setup.py bdist_wheel for prometheus-client ... \u001b[?25ldone\n",
      "\u001b[?25h  Stored in directory: /home/hackerman/.cache/pip/wheels/04/6b/a4/4ccef2edcc797b5553edc6c8bed4d219dafdb019e225c2c348\n",
      "  Running setup.py bdist_wheel for pandocfilters ... \u001b[?25ldone\n",
      "\u001b[?25h  Stored in directory: /home/hackerman/.cache/pip/wheels/39/01/56/f1b08a6275acc59e846fa4c1e1b65dbc1919f20157d9e66c20\n",
      "  Running setup.py bdist_wheel for MarkupSafe ... \u001b[?25ldone\n",
      "\u001b[?25h  Stored in directory: /home/hackerman/.cache/pip/wheels/33/56/20/ebe49a5c612fffe1c5a632146b16596f9e64676768661e4e46\n",
      "Successfully built livelossplot prometheus-client pandocfilters MarkupSafe\n",
      "\u001b[31mmkl-random 1.0.1 requires cython, which is not installed.\u001b[0m\n",
      "\u001b[31mmkl-fft 1.0.4 requires cython, which is not installed.\u001b[0m\n",
      "Installing collected packages: terminado, prometheus-client, Send2Trash, testpath, entrypoints, webencodings, html5lib, bleach, jsonschema, nbformat, MarkupSafe, jinja2, pandocfilters, mistune, nbconvert, notebook, livelossplot\n",
      "Successfully installed MarkupSafe-1.0 Send2Trash-1.5.0 bleach-2.1.4 entrypoints-0.2.3 html5lib-1.0.1 jinja2-2.10 jsonschema-2.6.0 livelossplot-0.2.0 mistune-0.8.3 nbconvert-5.3.1 nbformat-4.4.0 notebook-5.6.0 pandocfilters-1.4.2 prometheus-client-0.3.1 terminado-0.8.1 testpath-0.3.1 webencodings-0.5.1\n",
      "\u001b[33mYou are using pip version 10.0.1, however version 18.0 is available.\n",
      "You should consider upgrading via the 'pip install --upgrade pip' command.\u001b[0m\n"
     ]
    }
   ],
   "source": [
    "!pip install livelossplot"
   ]
  },
  {
   "cell_type": "code",
   "execution_count": 17,
   "metadata": {
    "ExecuteTime": {
     "end_time": "2018-08-24T07:42:02.516816Z",
     "start_time": "2018-08-24T07:41:44.849722Z"
    }
   },
   "outputs": [
    {
     "data": {
      "image/png": "[encoded data removed]",
      "text/plain": [
       "<Figure size 864x576 with 2 Axes>"
      ]
     },
     "metadata": {
      "image/png": {
       "height": 308,
       "width": 857
      }
     },
     "output_type": "display_data"
    },
    {
     "data": {
      "text/plain": [
       "<keras.callbacks.History at 0x7f2bdb2cec88>"
      ]
     },
     "execution_count": 17,
     "metadata": {},
     "output_type": "execute_result"
    }
   ],
   "source": [
    "from livelossplot import PlotLossesKeras\n",
    "\n",
    "model.fit(X_train, Y_train,\n",
    "          epochs=20, batch_size=32, # le agregamos 5 epochs al modelo ya entrenado\n",
    "          validation_data=(X_test, Y_test),\n",
    "          callbacks=[PlotLossesKeras()],\n",
    "          verbose=0)"
   ]
  },
  {
   "cell_type": "code",
   "execution_count": 19,
   "metadata": {},
   "outputs": [
    {
     "name": "stdout",
     "output_type": "stream",
     "text": [
      "Collecting pydot\n",
      "\u001b[?25l  Downloading https://files.pythonhosted.org/packages/c3/f1/e61d6dfe6c1768ed2529761a68f70939e2569da043e9f15a8d84bf56cadf/pydot-1.2.4.tar.gz (132kB)\n",
      "\u001b[K    100% |████████████████████████████████| 133kB 2.0MB/s \n",
      "\u001b[?25hRequirement already satisfied: pyparsing>=2.1.4 in /home/hackerman/anaconda2/envs/py36-test/lib/python3.6/site-packages (from pydot) (2.2.0)\n",
      "Building wheels for collected packages: pydot\n",
      "  Running setup.py bdist_wheel for pydot ... \u001b[?25ldone\n",
      "\u001b[?25h  Stored in directory: /home/hackerman/.cache/pip/wheels/6a/a5/14/25541ebcdeaf97a37b6d05c7ff15f5bd20f5e91b99d313e5b4\n",
      "Successfully built pydot\n",
      "\u001b[31mmkl-random 1.0.1 requires cython, which is not installed.\u001b[0m\n",
      "\u001b[31mmkl-fft 1.0.4 requires cython, which is not installed.\u001b[0m\n",
      "Installing collected packages: pydot\n",
      "Successfully installed pydot-1.2.4\n",
      "\u001b[33mYou are using pip version 10.0.1, however version 18.0 is available.\n",
      "You should consider upgrading via the 'pip install --upgrade pip' command.\u001b[0m\n"
     ]
    }
   ],
   "source": [
    "!pip install pydot"
   ]
  },
  {
   "cell_type": "code",
   "execution_count": 22,
   "metadata": {},
   "outputs": [],
   "source": [
    "import pydot"
   ]
  },
  {
   "cell_type": "code",
   "execution_count": 23,
   "metadata": {
    "ExecuteTime": {
     "end_time": "2018-08-24T08:24:25.433970Z",
     "start_time": "2018-08-24T08:24:25.327676Z"
    }
   },
   "outputs": [
    {
     "ename": "ImportError",
     "evalue": "Failed to import `pydot`. Please install `pydot`. For example with `pip install pydot`.",
     "output_type": "error",
     "traceback": [
      "\u001b[0;31m---------------------------------------------------------------------------\u001b[0m",
      "\u001b[0;31mImportError\u001b[0m                               Traceback (most recent call last)",
      "\u001b[0;32m<ipython-input-23-47504ae4d3ec>\u001b[0m in \u001b[0;36m<module>\u001b[0;34m()\u001b[0m\n\u001b[1;32m      1\u001b[0m \u001b[0;32mfrom\u001b[0m \u001b[0mIPython\u001b[0m\u001b[0;34m.\u001b[0m\u001b[0mdisplay\u001b[0m \u001b[0;32mimport\u001b[0m \u001b[0mSVG\u001b[0m\u001b[0;34m\u001b[0m\u001b[0m\n\u001b[1;32m      2\u001b[0m \u001b[0;32mfrom\u001b[0m \u001b[0mkeras\u001b[0m\u001b[0;34m.\u001b[0m\u001b[0mutils\u001b[0m\u001b[0;34m.\u001b[0m\u001b[0mvis_utils\u001b[0m \u001b[0;32mimport\u001b[0m \u001b[0mmodel_to_dot\u001b[0m\u001b[0;34m\u001b[0m\u001b[0m\n\u001b[0;32m----> 3\u001b[0;31m \u001b[0mSVG\u001b[0m\u001b[0;34m(\u001b[0m\u001b[0mmodel_to_dot\u001b[0m\u001b[0;34m(\u001b[0m\u001b[0mmodel\u001b[0m\u001b[0;34m)\u001b[0m\u001b[0;34m.\u001b[0m\u001b[0mcreate\u001b[0m\u001b[0;34m(\u001b[0m\u001b[0mprog\u001b[0m\u001b[0;34m=\u001b[0m\u001b[0;34m'dot'\u001b[0m\u001b[0;34m,\u001b[0m \u001b[0mformat\u001b[0m\u001b[0;34m=\u001b[0m\u001b[0;34m'svg'\u001b[0m\u001b[0;34m)\u001b[0m\u001b[0;34m)\u001b[0m\u001b[0;34m\u001b[0m\u001b[0m\n\u001b[0m",
      "\u001b[0;32m~/anaconda2/envs/py36-test/lib/python3.6/site-packages/keras/utils/vis_utils.py\u001b[0m in \u001b[0;36mmodel_to_dot\u001b[0;34m(model, show_shapes, show_layer_names, rankdir)\u001b[0m\n\u001b[1;32m     53\u001b[0m     \u001b[0;32mfrom\u001b[0m \u001b[0;34m.\u001b[0m\u001b[0;34m.\u001b[0m\u001b[0mmodels\u001b[0m \u001b[0;32mimport\u001b[0m \u001b[0mSequential\u001b[0m\u001b[0;34m\u001b[0m\u001b[0m\n\u001b[1;32m     54\u001b[0m \u001b[0;34m\u001b[0m\u001b[0m\n\u001b[0;32m---> 55\u001b[0;31m     \u001b[0m_check_pydot\u001b[0m\u001b[0;34m(\u001b[0m\u001b[0;34m)\u001b[0m\u001b[0;34m\u001b[0m\u001b[0m\n\u001b[0m\u001b[1;32m     56\u001b[0m     \u001b[0mdot\u001b[0m \u001b[0;34m=\u001b[0m \u001b[0mpydot\u001b[0m\u001b[0;34m.\u001b[0m\u001b[0mDot\u001b[0m\u001b[0;34m(\u001b[0m\u001b[0;34m)\u001b[0m\u001b[0;34m\u001b[0m\u001b[0m\n\u001b[1;32m     57\u001b[0m     \u001b[0mdot\u001b[0m\u001b[0;34m.\u001b[0m\u001b[0mset\u001b[0m\u001b[0;34m(\u001b[0m\u001b[0;34m'rankdir'\u001b[0m\u001b[0;34m,\u001b[0m \u001b[0mrankdir\u001b[0m\u001b[0;34m)\u001b[0m\u001b[0;34m\u001b[0m\u001b[0m\n",
      "\u001b[0;32m~/anaconda2/envs/py36-test/lib/python3.6/site-packages/keras/utils/vis_utils.py\u001b[0m in \u001b[0;36m_check_pydot\u001b[0;34m()\u001b[0m\n\u001b[1;32m     18\u001b[0m     \u001b[0;32mif\u001b[0m \u001b[0mpydot\u001b[0m \u001b[0;32mis\u001b[0m \u001b[0;32mNone\u001b[0m\u001b[0;34m:\u001b[0m\u001b[0;34m\u001b[0m\u001b[0m\n\u001b[1;32m     19\u001b[0m         raise ImportError(\n\u001b[0;32m---> 20\u001b[0;31m             \u001b[0;34m'Failed to import `pydot`. '\u001b[0m\u001b[0;34m\u001b[0m\u001b[0m\n\u001b[0m\u001b[1;32m     21\u001b[0m             \u001b[0;34m'Please install `pydot`. '\u001b[0m\u001b[0;34m\u001b[0m\u001b[0m\n\u001b[1;32m     22\u001b[0m             'For example with `pip install pydot`.')\n",
      "\u001b[0;31mImportError\u001b[0m: Failed to import `pydot`. Please install `pydot`. For example with `pip install pydot`."
     ]
    }
   ],
   "source": [
    "from IPython.display import SVG\n",
    "from keras.utils.vis_utils import model_to_dot\n",
    "SVG(model_to_dot(model).create(prog='dot', format='svg'))"
   ]
  },
  {
   "cell_type": "markdown",
   "metadata": {},
   "source": [
    "### Para correr tensorboard\n",
    "- Desde terminal: tensorboard --logdir Graph/\n",
    "- Abrir la dirección generada en localhost"
   ]
  },
  {
   "cell_type": "code",
   "execution_count": 24,
   "metadata": {
    "ExecuteTime": {
     "end_time": "2018-08-24T07:51:12.631378Z",
     "start_time": "2018-08-24T07:49:27.930434Z"
    }
   },
   "outputs": [
    {
     "name": "stdout",
     "output_type": "stream",
     "text": [
      "Epoch 1/5\n",
      "75000/75000 [==============================] - 3s 42us/step - loss: 0.4384 - acc: 0.7967\n",
      "Epoch 2/5\n",
      "75000/75000 [==============================] - 3s 42us/step - loss: 0.4385 - acc: 0.7979\n",
      "Epoch 3/5\n",
      "75000/75000 [==============================] - 3s 43us/step - loss: 0.4377 - acc: 0.7997\n",
      "Epoch 4/5\n",
      "75000/75000 [==============================] - 3s 43us/step - loss: 0.4377 - acc: 0.7995\n",
      "Epoch 5/5\n",
      "75000/75000 [==============================] - 3s 42us/step - loss: 0.4372 - acc: 0.7979\n"
     ]
    },
    {
     "data": {
      "text/plain": [
       "<keras.callbacks.History at 0x7f2bcd13cf28>"
      ]
     },
     "execution_count": 24,
     "metadata": {},
     "output_type": "execute_result"
    }
   ],
   "source": [
    "tb_call = keras.callbacks.TensorBoard(log_dir='./Graph', histogram_freq=0, write_graph=True, write_images=True)\n",
    "\n",
    "model.fit(X_train, Y_train, epochs=5, batch_size=32,callbacks=[tb_call])"
   ]
  },
  {
   "cell_type": "markdown",
   "metadata": {},
   "source": [
    "## Trucos: Regularizadores de redes\n",
    "\n",
    "**L2** pesos mas \"equitativos\"\n",
    "**L1** pesos mas \"sparse\", muchos 0's."
   ]
  },
  {
   "cell_type": "code",
   "execution_count": 25,
   "metadata": {
    "ExecuteTime": {
     "end_time": "2018-08-24T08:59:09.423193Z",
     "start_time": "2018-08-24T08:58:55.107420Z"
    }
   },
   "outputs": [
    {
     "name": "stdout",
     "output_type": "stream",
     "text": [
      "_________________________________________________________________\n",
      "Layer (type)                 Output Shape              Param #   \n",
      "=================================================================\n",
      "dense_1 (Dense)              (None, 10)                310       \n",
      "_________________________________________________________________\n",
      "dense_2 (Dense)              (None, 1)                 11        \n",
      "=================================================================\n",
      "Total params: 321\n",
      "Trainable params: 321\n",
      "Non-trainable params: 0\n",
      "_________________________________________________________________\n",
      "None\n",
      "Epoch 1/5\n",
      "75000/75000 [==============================] - 4s 52us/step - loss: 20.5357 - acc: 0.6596\n",
      "Epoch 2/5\n",
      "75000/75000 [==============================] - 3s 45us/step - loss: 0.7403 - acc: 0.6577\n",
      "Epoch 3/5\n",
      "75000/75000 [==============================] - 3s 45us/step - loss: 0.7128 - acc: 0.6576\n",
      "Epoch 4/5\n",
      "75000/75000 [==============================] - 3s 44us/step - loss: 0.6870 - acc: 0.6576\n",
      "Epoch 5/5\n",
      "75000/75000 [==============================] - 3s 45us/step - loss: 0.6675 - acc: 0.6576\n"
     ]
    },
    {
     "data": {
      "text/plain": [
       "<keras.callbacks.History at 0x7f2b932cda90>"
      ]
     },
     "execution_count": 25,
     "metadata": {},
     "output_type": "execute_result"
    }
   ],
   "source": [
    "from keras import regularizers\n",
    "\n",
    "K.clear_session()\n",
    "\n",
    "model = Sequential()\n",
    "model.add(Dense(units=10, input_dim=X_train.shape[-1],\n",
    "                kernel_regularizer=regularizers.l2(0.01),\n",
    "                activity_regularizer=regularizers.l1(0.01),\n",
    "                activation='relu'))\n",
    "model.add(Dense(1, kernel_initializer='normal', activation='sigmoid'))\n",
    "model.compile(loss='binary_crossentropy', optimizer=\"adam\", metrics=['accuracy'])\n",
    "print(model.summary())\n",
    "model.fit(X_train, Y_train, epochs=5, batch_size=32)"
   ]
  },
  {
   "cell_type": "markdown",
   "metadata": {},
   "source": [
    "## Actividad: Crea una red profunda\n",
    "\n",
    "Sugerencias:\n",
    "* Agrega mas capas\n",
    "* Hay alguna relacion entre las dimensiones de las capas?\n",
    "* Como calculas el numero de parametros a entrenar?\n",
    "* Cual es el efecto del learning rate?"
   ]
  },
  {
   "cell_type": "code",
   "execution_count": 32,
   "metadata": {},
   "outputs": [
    {
     "name": "stdout",
     "output_type": "stream",
     "text": [
      "_________________________________________________________________\n",
      "Layer (type)                 Output Shape              Param #   \n",
      "=================================================================\n",
      "dense_1 (Dense)              (None, 10)                310       \n",
      "_________________________________________________________________\n",
      "dense_2 (Dense)              (None, 30)                330       \n",
      "_________________________________________________________________\n",
      "dense_3 (Dense)              (None, 10)                310       \n",
      "_________________________________________________________________\n",
      "dense_4 (Dense)              (None, 1)                 11        \n",
      "=================================================================\n",
      "Total params: 961\n",
      "Trainable params: 961\n",
      "Non-trainable params: 0\n",
      "_________________________________________________________________\n",
      "None\n",
      "Epoch 1/10\n",
      "75000/75000 [==============================] - 4s 54us/step - loss: 0.5242 - acc: 0.7350\n",
      "Epoch 2/10\n",
      "75000/75000 [==============================] - 4s 51us/step - loss: 0.4825 - acc: 0.7698\n",
      "Epoch 3/10\n",
      "75000/75000 [==============================] - 4s 48us/step - loss: 0.4699 - acc: 0.7773\n",
      "Epoch 4/10\n",
      "75000/75000 [==============================] - 4s 53us/step - loss: 0.4633 - acc: 0.7824\n",
      "Epoch 5/10\n",
      "75000/75000 [==============================] - 3s 44us/step - loss: 0.4585 - acc: 0.7862\n",
      "Epoch 6/10\n",
      "75000/75000 [==============================] - 4s 49us/step - loss: 0.4555 - acc: 0.7879\n",
      "Epoch 7/10\n",
      "75000/75000 [==============================] - 3s 44us/step - loss: 0.4521 - acc: 0.7899\n",
      "Epoch 8/10\n",
      "75000/75000 [==============================] - 4s 53us/step - loss: 0.4496 - acc: 0.7916\n",
      "Epoch 9/10\n",
      "75000/75000 [==============================] - 4s 54us/step - loss: 0.4466 - acc: 0.7932\n",
      "Epoch 10/10\n",
      "75000/75000 [==============================] - 3s 47us/step - loss: 0.4434 - acc: 0.7959\n"
     ]
    },
    {
     "data": {
      "text/plain": [
       "<keras.callbacks.History at 0x7f2b91ddcb00>"
      ]
     },
     "execution_count": 32,
     "metadata": {},
     "output_type": "execute_result"
    }
   ],
   "source": [
    "K.clear_session() # Limpiar redes anteriores\n",
    "\n",
    "model = Sequential()\n",
    "\n",
    "model.add(Dense(units=10, input_dim=X_train.shape[-1], kernel_initializer='normal', activation='relu')) # dimensionalidad de los datos es 30\n",
    "\n",
    "# Hidden layer\n",
    "model.add(Dense(30, kernel_initializer='normal', activation='relu')) \n",
    "model.add(Dense(10, kernel_initializer='normal', activation='relu')) \n",
    "\n",
    "# Output layer\n",
    "# Esta capa es regresión logística, lo que hacen las otras capas es construir/transformar los datos para hacer mejor regresión logística\n",
    "model.add(Dense(1, kernel_initializer='normal', activation='sigmoid')) #kernel inicializa los pesos sacados aleatoriamente de una dist. normal\n",
    "\n",
    "model.compile(loss='binary_crossentropy', optimizer=\"rmsprop\", metrics=['accuracy']) #métrica para optimizar, optimizador, metric to be reported\n",
    "\n",
    "print(model.summary())\n",
    "model.fit(X_train, Y_train, epochs=10, batch_size=32) # 32 valores por iteración, se hacen 75000/32 iteraciones por época\n",
    "\n",
    "# Network architecture: 30x42x1 = 1302 neurons"
   ]
  },
  {
   "cell_type": "code",
   "execution_count": 33,
   "metadata": {},
   "outputs": [
    {
     "name": "stdout",
     "output_type": "stream",
     "text": [
      "--- Resultados --\n",
      "- AUC train: 0.702 \n",
      "- AUC test : 0.702 \n",
      "- AMS train: 2.364 sigma\n",
      "- AMS test : 3.123 sigma\n"
     ]
    },
    {
     "data": {
      "text/plain": [
       "(2.364201967687878, 3.12258207411062)"
      ]
     },
     "execution_count": 33,
     "metadata": {},
     "output_type": "execute_result"
    }
   ],
   "source": [
    "# Evaluate model\n",
    "pcut=0.7\n",
    "Y_train_pred = model.predict(X_train).flatten() > pcut\n",
    "Y_test_pred = model.predict(X_test).flatten() > pcut\n",
    "Y_train_prob= model.predict_proba(X_train).flatten()\n",
    "Y_test_prob = model.predict_proba(X_test).flatten()\n",
    "eval_model(Y_train,Y_train_pred,w_train,Y_test,Y_test_pred,w_test)"
   ]
  },
  {
   "cell_type": "code",
   "execution_count": 31,
   "metadata": {},
   "outputs": [
    {
     "data": {
      "image/png": "[encoded data removed]",
      "text/plain": [
       "<Figure size 864x576 with 2 Axes>"
      ]
     },
     "metadata": {
      "image/png": {
       "height": 308,
       "width": 857
      }
     },
     "output_type": "display_data"
    },
    {
     "data": {
      "text/plain": [
       "<keras.callbacks.History at 0x7f2bb4939828>"
      ]
     },
     "execution_count": 31,
     "metadata": {},
     "output_type": "execute_result"
    }
   ],
   "source": [
    "from livelossplot import PlotLossesKeras\n",
    "\n",
    "model.fit(X_train, Y_train,\n",
    "          epochs=10, batch_size=32, # le agregamos 5 epochs al modelo ya entrenado\n",
    "          validation_data=(X_test, Y_test),\n",
    "          callbacks=[PlotLossesKeras()],\n",
    "          verbose=0)"
   ]
  },
  {
   "cell_type": "markdown",
   "metadata": {},
   "source": [
    "## Trucos: Dropout\n",
    "\n",
    "Matar conexiones de manera aleatoria puede mejorar las conexiones. PARA ESTO ES EL DROPOUT!\n",
    "\n",
    "- Mas info en https://keras.io/layers/core/\n",
    "- Lo usamos cuando tenemos muchos parámetros y pocos datos\n",
    "- Lo usamos para hacer una mejor generalización "
   ]
  },
  {
   "cell_type": "code",
   "execution_count": 34,
   "metadata": {
    "ExecuteTime": {
     "end_time": "2018-08-24T07:55:16.004669Z",
     "start_time": "2018-08-24T07:55:07.388156Z"
    }
   },
   "outputs": [
    {
     "name": "stdout",
     "output_type": "stream",
     "text": [
      "_________________________________________________________________\n",
      "Layer (type)                 Output Shape              Param #   \n",
      "=================================================================\n",
      "dense_1 (Dense)              (None, 10)                310       \n",
      "_________________________________________________________________\n",
      "dropout_1 (Dropout)          (None, 10)                0         \n",
      "_________________________________________________________________\n",
      "dense_2 (Dense)              (None, 1)                 11        \n",
      "=================================================================\n",
      "Total params: 321\n",
      "Trainable params: 321\n",
      "Non-trainable params: 0\n",
      "_________________________________________________________________\n",
      "None\n",
      "Epoch 1/5\n",
      "75000/75000 [==============================] - 4s 52us/step - loss: 0.5654 - acc: 0.6967\n",
      "Epoch 2/5\n",
      "75000/75000 [==============================] - 4s 47us/step - loss: 0.5364 - acc: 0.7034\n",
      "Epoch 3/5\n",
      "75000/75000 [==============================] - 4s 55us/step - loss: 0.5333 - acc: 0.7043\n",
      "Epoch 4/5\n",
      "75000/75000 [==============================] - 3s 46us/step - loss: 0.5281 - acc: 0.7051\n",
      "Epoch 5/5\n",
      "75000/75000 [==============================] - 3s 47us/step - loss: 0.5271 - acc: 0.7063\n"
     ]
    },
    {
     "data": {
      "text/plain": [
       "<keras.callbacks.History at 0x7f2b91f5ab70>"
      ]
     },
     "execution_count": 34,
     "metadata": {},
     "output_type": "execute_result"
    }
   ],
   "source": [
    "from keras.layers import Dense, Activation, Dropout\n",
    "\n",
    "K.clear_session()\n",
    "\n",
    "model = Sequential()\n",
    "model.add(Dense(units=10, input_dim=X_train.shape[-1], kernel_initializer='normal', activation='relu'))\n",
    "model.add(Dropout(0.2)) # 20% de las conexiones se apagan\n",
    "model.add(Dense(1, kernel_initializer='normal', activation='sigmoid'))\n",
    "model.compile(loss='binary_crossentropy', optimizer=\"adam\", metrics=['accuracy'])\n",
    "print(model.summary())\n",
    "model.fit(X_train, Y_train, epochs=5, batch_size=32)"
   ]
  },
  {
   "cell_type": "markdown",
   "metadata": {},
   "source": [
    "## Trucos: BatchNormalization y Activacion!\n",
    "\n",
    "Algunas activaciones https://keras.io/layers/advanced-activations/\n",
    "\n",
    "Batch Normalization https://keras.io/layers/normalization/"
   ]
  },
  {
   "cell_type": "code",
   "execution_count": null,
   "metadata": {
    "ExecuteTime": {
     "end_time": "2018-08-24T08:03:56.679496Z",
     "start_time": "2018-08-24T08:01:25.474946Z"
    }
   },
   "outputs": [],
   "source": [
    "from keras.layers import Dense, Activation, Dropout, BatchNormalization\n",
    "\n",
    "K.clear_session()\n",
    "\n",
    "model = Sequential()\n",
    "model.add(Dense(units=100, input_dim=X_train.shape[-1], kernel_initializer='normal'))\n",
    "model.add(BatchNormalization())\n",
    "model.add(Activation('tanh'))\n",
    "model.add(Dropout(0.5))\n",
    "model.add(Dense(1, kernel_initializer='normal', activation='sigmoid'))\n",
    "model.compile(loss='binary_crossentropy', optimizer=\"adam\", metrics=['accuracy'])\n",
    "print(model.summary())\n",
    "model.fit(X_train, Y_train, epochs=5, batch_size=32)"
   ]
  },
  {
   "cell_type": "markdown",
   "metadata": {},
   "source": [
    "## Keras Functional"
   ]
  },
  {
   "cell_type": "code",
   "execution_count": null,
   "metadata": {
    "ExecuteTime": {
     "end_time": "2018-08-24T08:35:10.930191Z",
     "start_time": "2018-08-24T08:34:55.006939Z"
    }
   },
   "outputs": [],
   "source": [
    "from keras.models import Model\n",
    "from keras.layers import Input, Dense\n",
    "\n",
    "K.clear_session()\n",
    "\n",
    "inputs = Input(shape=(X_train.shape[-1],)) # Se usa en lugar de Model Sequential\n",
    "x = Dense(64, activation='relu')(inputs)\n",
    "x = Dense(64, activation='relu')(x)\n",
    "pred = Dense(1, activation='sigmoid')(x)\n",
    "\n",
    "model = Model(inputs=inputs, outputs=pred)\n",
    "\n",
    "model.compile(loss='binary_crossentropy', optimizer=\"adam\", metrics=['accuracy'])\n",
    "print(model.summary())\n",
    "model.fit(X_train, Y_train, epochs=5, batch_size=32)\n",
    "pcut=0.5\n",
    "Y_train_pred = model(X_train).flatten() > pcut\n",
    "Y_test_pred = model(X_test).flatten() > pcut\n",
    "Y_train_prob= model(X_train).flatten()\n",
    "Y_test_prob = model(X_test).flatten()\n",
    "eval_model(Y_train,Y_train_pred,w_train,Y_test,Y_test_pred,w_test)"
   ]
  },
  {
   "cell_type": "markdown",
   "metadata": {},
   "source": [
    "## Truco: Skip connections"
   ]
  },
  {
   "cell_type": "code",
   "execution_count": null,
   "metadata": {
    "ExecuteTime": {
     "end_time": "2018-08-24T08:25:19.434913Z",
     "start_time": "2018-08-24T08:25:06.632221Z"
    }
   },
   "outputs": [],
   "source": [
    "from keras.models import Model\n",
    "from keras.layers import Input, Dense, Concatenate\n",
    "\n",
    "K.clear_session()\n",
    "\n",
    "inputs = Input(shape=(X_train.shape[-1],))\n",
    "x1 = Dense(64, activation='relu')(inputs)\n",
    "x2 = Dense(64, activation='relu')(x1)\n",
    "skipped = Concatenate()([x1,x2])\n",
    "pred = Dense(1, activation='sigmoid')(skipped)\n",
    "\n",
    "model = Model(inputs=inputs, outputs=pred)\n",
    "\n",
    "model.compile(loss='binary_crossentropy', optimizer=\"adam\", metrics=['accuracy'])\n",
    "print(model.summary())\n",
    "model.fit(X_train, Y_train, epochs=5, batch_size=32)\n",
    "pcut=0.5\n",
    "Y_train_pred = model(X_train).flatten() > pcut\n",
    "Y_test_pred = model(X_test).flatten() > pcut\n",
    "Y_train_prob= model(X_train).flatten()\n",
    "Y_test_prob = model(X_test).flatten()\n",
    "eval_model(Y_train,Y_train_pred,w_train,Y_test,Y_test_pred,w_test)\n",
    "keras_graph(model)\n"
   ]
  },
  {
   "cell_type": "markdown",
   "metadata": {},
   "source": [
    "## Optimizador\n",
    "\n",
    "\n",
    "\n",
    "\n",
    "![](extra/saddle_point_evaluation_optimizers.gif)\n",
    "\n",
    "Imagenes de Sebastian Ruder (http://ruder.io)\n",
    "\n",
    "![](extra/beales_20171117_00-02-20_2d.gif)\n",
    "\n",
    "Imagenes de https://github.com/wassname/viz_torch_optim'\n",
    "\n",
    "\n",
    "Y hay muchos mas en camino! (http://www.fast.ai/2018/07/02/adam-weight-decay/)"
   ]
  },
  {
   "cell_type": "code",
   "execution_count": null,
   "metadata": {
    "ExecuteTime": {
     "end_time": "2018-08-24T08:33:37.789587Z",
     "start_time": "2018-08-24T08:32:15.479848Z"
    }
   },
   "outputs": [],
   "source": [
    "from keras.models import Model\n",
    "from keras.layers import Input, Dense, Concatenate\n",
    "from keras import optimizers\n",
    "\n",
    "lr = 0.01\n",
    "K.clear_session()\n",
    "for opt in [optimizers.SGD(lr=lr),\n",
    "            optimizers.SGD(lr=lr, decay=1e-6, momentum=0.9, nesterov=True),\n",
    "            optimizers.Adam(lr=lr),\n",
    "            optimizers.Adagrad(lr=lr)\n",
    "           ]:\n",
    "    print('===={}==='.format(str(opt.__class__)))\n",
    "    inputs = Input(shape=(X_train.shape[-1],))\n",
    "    x1 = Dense(64, activation='relu')(inputs)\n",
    "    x2 = Dense(64, activation='relu')(x1)\n",
    "    skipped = Concatenate()([x1,x2])\n",
    "    pred = Dense(1, activation='sigmoid')(skipped)\n",
    "    model = Model(inputs=inputs, outputs=pred)\n",
    "    model.compile(loss='binary_crossentropy', optimizer=opt, metrics=['accuracy'])\n",
    "    model.fit(X_train, Y_train, epochs=5, batch_size=32)\n",
    "    pcut=0.5\n",
    "    Y_train_pred = model(X_train).flatten() > pcut\n",
    "    Y_test_pred = model(X_test).flatten() > pcut\n",
    "    Y_train_prob= model(X_train).flatten()\n",
    "    Y_test_prob = model(X_test).flatten()\n",
    "    eval_model(Y_train,Y_train_pred,w_train,Y_test,Y_test_pred,w_test)"
   ]
  },
  {
   "cell_type": "markdown",
   "metadata": {},
   "source": [
    "## Controlando el learning rate\n",
    "\n",
    "![image.png](extra/learn_rate.png)\n",
    "\n",
    "Imagen de [cs231n](http://cs231n.stanford.edu/)\n",
    "\n",
    "![](extra/lr_finder.png)\n",
    "\n",
    "![](extra/Lanscape_lr.png)\n",
    "\n",
    "![](extra/cyclic_lr.png)\n",
    "\n",
    "* Cyclical Learning Rates for Training Neural Networks (https://arxiv.org/abs/1506.01186)\n",
    "* Setting the learning rate of your neural network. (https://www.jeremyjordan.me/nn-learning-rate/)\n",
    "* SNAPSHOT ENSEMBLES: TRAIN 1, GET M FOR FREE (https://arxiv.org/pdf/1704.00109.pdf)\n",
    "* SGDR: STOCHASTIC GRADIENT DESCENT WITH WARM RESTARTS (https://arxiv.org/pdf/1608.03983.pdf)"
   ]
  },
  {
   "cell_type": "code",
   "execution_count": null,
   "metadata": {
    "ExecuteTime": {
     "end_time": "2018-08-24T09:03:13.188922Z",
     "start_time": "2018-08-24T09:02:58.664235Z"
    }
   },
   "outputs": [],
   "source": [
    "from keras.callbacks import LearningRateScheduler\n",
    "class LossHistory(keras.callbacks.Callback):\n",
    "    def on_train_begin(self, logs={}):\n",
    "        self.losses = []\n",
    "        self.lr = []\n",
    "    def on_epoch_end(self, batch, logs={}):\n",
    "        self.losses.append(logs.get('loss'))\n",
    "        self.lr.append(step_decay(len(self.losses)))\n",
    "        \n",
    "def step_decay(epoch):\n",
    "    initial_lrate = 0.1\n",
    "    drop = 0.5\n",
    "    epochs_drop = 1.0\n",
    "    lrate = initial_lrate * np.power(drop,  \n",
    "           np.floor((1+epoch)/epochs_drop))\n",
    "    return lrate\n",
    "\n",
    "loss_history = LossHistory()\n",
    "lrate = LearningRateScheduler(step_decay)\n",
    "callbacks = [loss_history, lrate]\n",
    "\n",
    "\n",
    "hist = model.fit(X_train, Y_train,\n",
    "          epochs=5, batch_size=32,callbacks=callbacks)\n",
    "\n",
    "plt.plot(loss_history.losses,loss_history.lr)\n",
    "plt.xlabel('learning rate')\n",
    "plt.ylabel('loss')\n",
    "plt.show()"
   ]
  },
  {
   "cell_type": "markdown",
   "metadata": {},
   "source": [
    "## Actividad: Crea una red poderosa!\n",
    "\n",
    "Sugerencias:\n",
    "* Usa los trucos que vimos\n",
    "* Cual es el efecto de entrenar con un learning rate bajo, alto?\n",
    "* Ojo con le optimizador y el learning rate, es super importante!"
   ]
  },
  {
   "cell_type": "code",
   "execution_count": null,
   "metadata": {},
   "outputs": [],
   "source": []
  },
  {
   "cell_type": "markdown",
   "metadata": {},
   "source": [
    "# Pytorch\n",
    "\n",
    "\n",
    "[![](extra/pytorch-logo.png)](https://pytorch.org/)\n",
    "\n"
   ]
  },
  {
   "cell_type": "code",
   "execution_count": null,
   "metadata": {
    "ExecuteTime": {
     "end_time": "2018-08-24T09:43:38.406384Z",
     "start_time": "2018-08-24T09:43:38.400298Z"
    }
   },
   "outputs": [],
   "source": [
    "import torch\n",
    "from torch.autograd import Variable"
   ]
  },
  {
   "cell_type": "code",
   "execution_count": null,
   "metadata": {
    "ExecuteTime": {
     "end_time": "2018-08-24T09:45:01.935004Z",
     "start_time": "2018-08-24T09:45:01.914747Z"
    }
   },
   "outputs": [],
   "source": [
    "class Net(torch.nn.Module):\n",
    "    \n",
    "    def __init__(self):\n",
    "        super().__init__()\n",
    "        self.fc1 = nn.Linear(30, 50)\n",
    "        self.relu1 = nn.ReLU()\n",
    "        self.dout = nn.Dropout(0.2)\n",
    "        self.fc2 = nn.Linear(50, 100)\n",
    "        self.prelu = nn.PReLU(1)\n",
    "        self.out = nn.Linear(100, 1)\n",
    "        self.out_act = nn.Sigmoid()\n",
    "        \n",
    "    def forward(self, input_):\n",
    "        a1 = self.fc1(input_)\n",
    "        h1 = self.relu1(a1)\n",
    "        dout = self.dout(h1)\n",
    "        a2 = self.fc2(dout)\n",
    "        h2 = self.prelu(a2)\n",
    "        a3 = self.out(h2)\n",
    "        y = self.out_act(a3)\n",
    "        return y\n",
    "    \n",
    "net = Net()\n",
    "opt = torch.optim.Adam(net.parameters(), lr=0.001)\n",
    "criterion = nn.BCELoss()"
   ]
  },
  {
   "cell_type": "code",
   "execution_count": null,
   "metadata": {
    "ExecuteTime": {
     "end_time": "2018-08-24T12:58:40.945947Z",
     "start_time": "2018-08-24T12:58:08.229410Z"
    }
   },
   "outputs": [],
   "source": [
    "e_losses = []\n",
    "num_epochs = 5\n",
    "batch_size=128\n",
    "for e in range(num_epochs):\n",
    "    print(e,end='..')\n",
    "    losses=[]\n",
    "    for beg_i in range(0, X.shape[0], batch_size):\n",
    "        x_batch = torch.from_numpy(X)[beg_i:beg_i + batch_size, :]\n",
    "        y_batch = torch.from_numpy(Y.reshape(-1,1))[beg_i:beg_i + batch_size, :]\n",
    "        x_batch = Variable(x_batch).float()\n",
    "        y_batch = Variable(y_batch).float()\n",
    "\n",
    "        opt.zero_grad()\n",
    "        # (1) Forward\n",
    "        y_hat = net(x_batch)\n",
    "        # (2) Compute diff\n",
    "        loss = criterion(y_hat, y_batch)\n",
    "        # (3) Compute gradients\n",
    "        loss.backward()\n",
    "        # (4) update weights\n",
    "        opt.step()        \n",
    "        losses.append(loss.data.numpy())\n",
    "    e_losses.append(np.mean(losses))\n",
    "\n",
    "plt.plot(e_losses)"
   ]
  },
  {
   "cell_type": "markdown",
   "metadata": {},
   "source": [
    "### TO DO CHALLENGE:\n",
    "- Finish working up a neural network model\n",
    "- Improve: sigma (5 ó 6), accuracy \n",
    "- Can use batch normalization, activations, skip, learning rates, \n",
    "- Dos categorías a evaluar: Mejor poder predictivo & más creativo\n",
    "- Enviarlo al correo de la RIIAA\n",
    "- Subject: Yo tengo el modelo ganador\n",
    "- Upload to github\n",
    "- Check Machine Learning Crash Course Google: g.co/mledu/mlcc-riiaa (no certification but usefull when applying)\n",
    "- Applying Google: Certified skills (competitions, opensource, courses). google.com/students. Proyecto más allá de impacto escolar."
   ]
  },
  {
   "cell_type": "code",
   "execution_count": 35,
   "metadata": {},
   "outputs": [
    {
     "data": {
      "text/plain": [
       "'1.10.0'"
      ]
     },
     "execution_count": 35,
     "metadata": {},
     "output_type": "execute_result"
    }
   ],
   "source": [
    "tf.__version__"
   ]
  },
  {
   "cell_type": "code",
   "execution_count": null,
   "metadata": {},
   "outputs": [],
   "source": []
  }
 ],
 "metadata": {
  "kernelspec": {
   "display_name": "Python 3.6",
   "language": "python",
   "name": "py36-test"
  },
  "language_info": {
   "codemirror_mode": {
    "name": "ipython",
    "version": 3
   },
   "file_extension": ".py",
   "mimetype": "text/x-python",
   "name": "python",
   "nbconvert_exporter": "python",
   "pygments_lexer": "ipython3",
   "version": "3.6.6"
  },
  "toc": {
   "base_numbering": 1,
   "nav_menu": {},
   "number_sections": false,
   "sideBar": true,
   "skip_h1_title": false,
   "title_cell": "Table of Contents",
   "title_sidebar": "Contents",
   "toc_cell": true,
   "toc_position": {
    "height": "calc(100% - 180px)",
    "left": "10px",
    "top": "150px",
    "width": "209px"
   },
   "toc_section_display": true,
   "toc_window_display": true
  }
 },
 "nbformat": 4,
 "nbformat_minor": 2
}
